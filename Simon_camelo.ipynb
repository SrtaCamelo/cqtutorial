{
 "cells": [
  {
   "cell_type": "markdown",
   "metadata": {},
   "source": [
    "# Algoritmo De Simon\n",
    "Raissa Camelo\n",
    "## Introdução\n",
    "O algoritmo de Simon é capaz de encontrar padrões em funções, baseando-se na periodicidade das mesmas. \n",
    "\n",
    "Um bom exemplo para entender melhor do que se trata a periodicidade de uma função é a função modulo n (resto da divisão por n).\n",
    "Se tomarmos por exemplo n = 4, sabemos que existem 4 possíveis saidas (0,1,2,3), e sabemos que os resultados se repetem para diferentes valores de x, ou seja, se $f(x) = 0$, $f(x)+ 4 = 0$, para todo x inteiro. Essa própriedade se extende para todas as outras saídas de mod4, e podemos observar que o **\"c\"** da função, sua periodicidade, é 4.\n",
    "\n",
    "Agora que entendemos o que é a periodicidade, podemos compreender melhor o que o algoritmo de Simon faz. O algoritmo de Simon encontra o valor de **c** para funções binárias, podendo assim extrair o padrão de periodicidade da função e até mesmo inferir o tipo de mapeamento da mesma.\n",
    "\n",
    "Dada uma função $f:${0,1}$^n$ $\\rightarrow$ {0,1}$^n$, qualquer (caixa preta) \n",
    "onde $f(x) = f(y)$ se e somente se $x = y \\oplus c$. Em outras palavras, c é uma espécie de padrão repetitivo de f e encontrando c teremos a periodicidade da função (quanto temos que deslocar x para que $f(x) = f(y)$).\n",
    "\n",
    "---\n",
    "Um exemplo de mapeamento para c = 100:\n",
    "\n",
    "$000 \\oplus 100 = 100$  \n",
    "$001 \\oplus 100 = 101$  \n",
    "$010 \\oplus 100 = 110$        \n",
    "$011 \\oplus 100 = 111$    \n",
    "$100 \\oplus 100 = 000$   \n",
    "$101 \\oplus 100 = 001$   \n",
    "$110 \\oplus 100 = 010$  \n",
    "$111 \\oplus 100 = 011$\n",
    "\n",
    "logo a função será: \n",
    "\n",
    "$f(000) = f(100)$  \n",
    "$f(001) = f(101)$  \n",
    "$f(010) = f(110)$  \n",
    "$f(011) = f(111)$\n",
    "\n",
    "---\n",
    "\n",
    "Caso c seja $(0^n)$, a função tera um mapeamento de 1 pra 1.\n",
    "\n",
    "Exemplo $c = 000:$\n",
    "\n",
    "$000 \\oplus 000 = 000$  \n",
    "$001 \\oplus 000 = 001$  \n",
    "$010 \\oplus 000 = 010$        \n",
    "$011 \\oplus 000 = 011$    \n",
    "$100 \\oplus 000 = 100$   \n",
    "$101 \\oplus 000 = 101$   \n",
    "$110 \\oplus 000 = 110$  \n",
    "$111 \\oplus 000 = 111$\n",
    "\n",
    "Para qualquer outro valor de c, a função terá mapeamento 1 para 2.\n",
    "Nota-se que para o algoritmo de Simon funcionar a função utilizada precisa necessariamente garantir a condição\n",
    "$f(x) = f(y)$ se e somente se $x = y \\oplus c$.\n",
    "\n",
    "## Algoritmo Clássico\n",
    "Para resolver este problema de maneira clássica deveremos encontrar o valor de f para varias entradas, vericando, a cada entrada se o mesmo valor já foi obtido anteriormente. Caso um valor anteriormente obtido seja encontrado novamente $f(x) = f(y)$, temos a promessa de que $x = y \\oplus c$, logo podemos obter c na mesma equação aplicando a operação \\oplus y nos dois lados:\n",
    "\n",
    "- $x \\oplus y = y \\oplus c \\oplus  y$\n",
    "\n",
    "- $x \\oplus y = c$\n",
    "\n",
    "Usando este procedimento para avaliar as funções, iremos precisar analisar a metade das funções até encontrar algum $f(x) = f(y)$, dado que a função seja 2-para-um, caso a função seja 1-por-1 serão necessárias $\\frac{2^n}{2}+1 = 2^{n-1}$ (A metade mais 1). Com um algoritmo quântico espera-se uma eficiência melhor, sendo o objetivo do algoritmo de Simon otimizar a abordagem classica descrita.\n",
    "\n",
    "\n",
    "\n",
    "## Algoritmo Quântico\n",
    "O algoritimo quantico consiste em repetir várias vezes as operações abaixo, até encontrarmos uma quantidade suficiente de equações para formar um sistema de equações.\n",
    "\n",
    "Operação Matricial: $(H^{\\otimes n} \\otimes I) U_{f} H^{\\otimes n} \\otimes I)\\rangle |0,0\\rangle$\n",
    "\n",
    "Estados:\n",
    "Dado um operador desconhecido $U_{f}$ que segue os padrões descritos acima\n",
    "\n",
    "\n",
    "1. \n",
    "$|\\psi_0\\rangle = |0,0\\rangle$\n",
    "\n",
    "O estado inicial consiste em n qbits iniciais setados no estado zero tensorial n quibits também inicializados no estado zero. Isso acontece pois nós precisamos aplicar a função $U_{f}$ sobre uma entrada (n bits) e obter a sua saída (também n  bits), logo precisamos de 2 x n bits quânticos.\n",
    "\n",
    "2.\n",
    "A seguir devemos aplicar a matriz de Hadamard afim de obter todas os possíveis estados da base  {0,1}$^n$ , obtendo a seguinte configuração:\n",
    "$|\\psi_1\\rangle = \\dfrac{\\sum_{x\\in(0,1)^n} |x,0\\rangle}{\\sqrt{2^n}}$\n",
    "\n",
    "Ao realizar este passo os valores do n ultimos qbits são mantidos no estado {0}$^n$, uma vez que a operação de Hadamard não é aplicada nos mesmos. Esse passo é crucial para obtermos todas as entradas x e y para aplicar a função Uf. Os 'x' são gerados pela aplicação de Hadamard nos n primeiros qbits e os 'y' não sofrem alterações, sendo mantidos em ${0}$$^n$.\n",
    "\n",
    "3.\n",
    "Dada uma função arbitrária Uf, ao calcularmos os valores de $U_f$ para os qbits obtendo o seguinte estado:\n",
    "\n",
    "$|\\psi_2\\rangle = \\dfrac{\\sum_{x\\in(0,1)^n} |x,f(x)\\rangle}{\\sqrt{2^n}}$\n",
    "\n",
    "Lembrando que a a função aplicada mantem o valor de x (n primeiros qbits) igual e modifica apenas o valor de y (n ultimos qbits), dada as formulas: $x = x$ e $y = y \\oplus f(x)$. Como no algoritmo de Simon os n ultimos qbits não sofrem alteração, permanecendo todos no estado 0, ao aplicar a função $U_f$ os valores de y assumem diretamente os valores de $f(x)$, uma vez que: $y = y \\oplus f(x)$ -> se y = ${0}$$^n$  -> $y = f(x)$.\n",
    "\n",
    "4. \n",
    "Finalmente aplica-se a operação de Hadamard novamente, obtendo o seguinte estado:\n",
    "\n",
    "$|\\psi_3\\rangle = \\dfrac{  \\sum_{x\\in(0,1)^n}( \\sum_{z\\in(0,1)^n} (-1)^{\\langle z,x \\rangle}|z,f(x)\\rangle   )}{2^n}$\n",
    "\n",
    "Como temos a garantia de que $x = y \\oplus c$, para qualquer x arbritário do somatório, temos que |z,f(x)$\\rangle$ = |z,f($x \\oplus c$)$\\rangle$. Logo podemos, ao fixar o x e um z arbitrário no estado acima, escreve-lo da seguinte forma:\n",
    "\n",
    "$\\dfrac{(-1)^{\\langle z,x \\rangle} + (-1)^{\\langle z,x \\oplus c \\rangle}}{2^n}$ \n",
    "\n",
    "Ao aplica a propriedade do ou exclusivo: $|a,b\\oplus c \\rangle = |a,b\\rangle \\oplus |a,c \\rangle$, obtendo:\n",
    "\n",
    "$\\dfrac{(-1)^{\\langle z,x \\rangle} + (-1)^{\\langle z,x \\rangle \\oplus \\langle z,c \\rangle}}{2^n}$ \n",
    "\n",
    "Aplicando a própriedade do ou exclusivo associada a potencias de mesma base: $(x)^{\\langle a,b \\rangle \\oplus \\langle c,d \\rangle} = (x)^{\\langle a,b \\rangle}(x)^{\\langle c,d \\rangle}$, obtemos:\n",
    "\n",
    "$\\dfrac{(-1)^{\\langle z,x \\rangle} + (-1)^{\\langle z,x \\rangle}(-1)^{\\langle z,c \\rangle}}{2^n}$ .\n",
    "\n",
    "Se $ \\langle z,c\\rangle = 1$, iremos obter $\\dfrac{0}{2^n}$\n",
    "\n",
    "Se $ \\langle z,c\\rangle = 0$, iremos obter $\\dfrac{2}{2^n} = +- 1$\n",
    "\n",
    "Desta forma, quando medirmos os n qubitsdo topo apenas iremos obter strings nas quais $ \\langle z,c\\rangle = 0$.\n",
    "\n",
    "Após executar o algoritmo de simon algumas vezes, obteremos um sistema de equações com o qual podemos calcular a string 'c'.\n",
    "Exemplo:\n",
    "1. $\\langle 0100,c \\rangle = 0$\n",
    "2. $\\langle 1010,c \\rangle = 0$\n",
    "3. $\\langle 0000,c \\rangle = 0$\n",
    "4. $\\langle 1001,c \\rangle = 0$\n",
    "\n",
    "Resolvidos desta forma:\n",
    "\n",
    "1. $\\langle c^2 \\rangle = 0$\n",
    "2. $\\langle c^1 \\oplus c^3 \\rangle = 0$\n",
    "3. \n",
    "4. $\\langle c^1 \\oplus c^4 \\rangle = 0$\n",
    "\n",
    "Se $c^1$ for = 0, então $c^4, c^3 = 0$, logo temos que c = '0000'\n",
    "Se $c^1$ for = 1, então $c^4, c^3 = 1$, logo temos que c = '1011'\n",
    "\n",
    "Caso tenhamos certeza de que U_f não é uma função mapeada de 1 para 1 e que c != '0000', concluimos que c = '1011'.\n",
    "\n",
    "\n",
    "\n",
    "\n",
    "## Simulação e Execução\n",
    "A seguir iremos demonstrar a implementação do algoritmo de através do circuito quântico desenhado, usando as funções de visualização da biblioteca qiskit. Logo após a mostragem do circuito iremos simular o algoritmo em Python pelo qiskit.\n",
    "A função escolhida para a aplicação do algoritmo será a seguinte função, com 2 bits por entrada:\n",
    "\n",
    "$f(00) = 11$\n",
    "\n",
    "$f(01) = 11$\n",
    "\n",
    "$f(10) = 00$\n",
    "\n",
    "$f(11) = 00$\n",
    "\n",
    "Observando brevemente esta função percebemos a string c é = '01', dado que $x = y \\oplus c$.\n",
    "Implementado essa função no algoritmo quantico de simon temos:\n",
    "\n"
   ]
  },
  {
   "cell_type": "code",
   "execution_count": 2,
   "metadata": {},
   "outputs": [
    {
     "data": {
      "text/plain": [
       "<qiskit.backends.ibmq.ibmqprovider.IBMQProvider at 0x264669f1ef0>"
      ]
     },
     "execution_count": 2,
     "metadata": {},
     "output_type": "execute_result"
    }
   ],
   "source": [
    "#Setando o Ambiente\n",
    "import qiskit as qkit\n",
    "from qiskit.tools.visualization import circuit_drawer  #Usado para desenhar o circuito quântico\n",
    "from qiskit.tools.visualization import plot_histogram  #Usado para desenhar um gráfico com o resultadp\n",
    "import time\n",
    "import Qconfig\n",
    "qkit.register(Qconfig.APItoken, Qconfig.config['url'])\n"
   ]
  },
  {
   "cell_type": "markdown",
   "metadata": {},
   "source": [
    "Aqui precisamos definir o tamanho dos registradores classicos e quânticos.\n",
    "Os registradores clássicos são utilizados para registrar a medição final dos registradores quânticos. Os registradores quânticos por sua vez serão utilizados nas operações, para se obter o resultado desejado."
   ]
  },
  {
   "cell_type": "code",
   "execution_count": 3,
   "metadata": {},
   "outputs": [],
   "source": [
    "rq = qkit.QuantumRegister(size=4)\n",
    "rc = qkit.ClassicalRegister(size=2)"
   ]
  },
  {
   "cell_type": "markdown",
   "metadata": {},
   "source": [
    "A seguir devemos estanciar o circuito usando a função abaixo. Salvaremos nosso modelo na variavel *Simon* e chamaremos os operadores quânticos na variável. Para o algoritmo de Simon ultilizaremos os operadores de Hadamard e a função f. A função f é sempre passada como entrada do algoritmo, para esta simulação utilizaremos os operadoros x e x controlado para descrever Uf.\n"
   ]
  },
  {
   "cell_type": "code",
   "execution_count": 5,
   "metadata": {
    "scrolled": true
   },
   "outputs": [
    {
     "data": {
      "image/png": "[encoded data removed]",
      "text/plain": [
       "<PIL.Image.Image image mode=RGB size=675x277 at 0x2646CCBC128>"
      ]
     },
     "execution_count": 5,
     "metadata": {},
     "output_type": "execute_result"
    }
   ],
   "source": [
    "simon = qkit.QuantumCircuit(rq, rc)\n",
    "#------------Aplicação do Hadamard nos n primeiros qbits\n",
    "simon.h(rq[0])\n",
    "simon.h(rq[1])\n",
    "#-------------Aplicação da Função f---------------\n",
    "simon.x(rq[0])\n",
    "simon.cx(rq[0],rq[2])\n",
    "simon.cx(rq[0],rq[3])\n",
    "simon.x(rq[0])\n",
    "#----------Aplicação do Hadamard novamente--------\n",
    "simon.h(rq[0])\n",
    "simon.h(rq[1])\n",
    "#Medição dos n qbits e desenho do circuito\n",
    "simon.measure(rq[0], rc[0])\n",
    "simon.measure(rq[1],rc[1])\n",
    "circuit_drawer(simon)"
   ]
  },
  {
   "cell_type": "markdown",
   "metadata": {},
   "source": [
    "## Simulação do Processador Quantico"
   ]
  },
  {
   "cell_type": "code",
   "execution_count": 19,
   "metadata": {},
   "outputs": [
    {
     "data": {
      "image/png": "[encoded data removed]",
      "text/plain": [
       "<Figure size 432x288 with 1 Axes>"
      ]
     },
     "metadata": {
      "needs_background": "light"
     },
     "output_type": "display_data"
    }
   ],
   "source": [
    "backend = \"local_qasm_simulator\"\n",
    "shots = 9\n",
    "job = qkit.execute(simon, backend=backend, shots=shots)\n",
    "k = 0\n",
    "wait_time = 1\n",
    "while not job.done:\n",
    "    print(job.status)\n",
    "    print('waiting '+ str(k) + ' segundos' )\n",
    "    k = k + wait_time\n",
    "    time.sleep(wait_time)\n",
    "    \n",
    "results_sim = job.result() \n",
    "outputs_sim = results_sim.get_counts()\n",
    "\n",
    "plot_histogram(outputs_sim)"
   ]
  },
  {
   "cell_type": "markdown",
   "metadata": {},
   "source": [
    "## Executando no processador da IBM"
   ]
  },
  {
   "cell_type": "code",
   "execution_count": 6,
   "metadata": {},
   "outputs": [
    {
     "data": {
      "image/png": "[encoded data removed]",
      "text/plain": [
       "<Figure size 432x288 with 1 Axes>"
      ]
     },
     "metadata": {
      "needs_background": "light"
     },
     "output_type": "display_data"
    }
   ],
   "source": [
    "backend = \"ibmq_16_melbourne\"\n",
    "#backend = \"qasm_simulator\"\n",
    "shots = 9\n",
    "job = qkit.execute(simon, backend=backend, shots=shots)\n",
    "k = 0\n",
    "wait_time = 10\n",
    "print(\"Going\")\n",
    "\"\"\"\n",
    "while not job.done:\n",
    "    print(job.status)\n",
    "    print('waiting '+ str(k) + ' segundos' )\n",
    "    k = k + wait_time\n",
    "    time.sleep(wait_time)\n",
    "\"\"\"\n",
    "results = job.result() \n",
    "outputs = results.get_counts()\n",
    "\n",
    "plot_histogram(outputs)"
   ]
  },
  {
   "cell_type": "code",
   "execution_count": null,
   "metadata": {},
   "outputs": [],
   "source": []
  }
 ],
 "metadata": {
  "kernelspec": {
   "display_name": "Python 3",
   "language": "python",
   "name": "python3"
  },
  "language_info": {
   "codemirror_mode": {
    "name": "ipython",
    "version": 3
   },
   "file_extension": ".py",
   "mimetype": "text/x-python",
   "name": "python",
   "nbconvert_exporter": "python",
   "pygments_lexer": "ipython3",
   "version": "3.7.0"
  }
 },
 "nbformat": 4,
 "nbformat_minor": 2
}
